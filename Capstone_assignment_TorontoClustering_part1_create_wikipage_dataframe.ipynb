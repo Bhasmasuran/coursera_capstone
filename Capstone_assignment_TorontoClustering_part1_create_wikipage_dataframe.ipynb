{
 "cells": [
  {
   "cell_type": "markdown",
   "metadata": {},
   "source": [
    "## Coursera Capstone assignment - Toronto neighbourhood Clustering & Segmenting - Part 1"
   ]
  },
  {
   "cell_type": "markdown",
   "metadata": {},
   "source": [
    "This notebook is created as part of Corusera Capstone project. This notebook is created as part of capstone project  assignment - 'Clustering & Segmenting Toronto city data'. This notebook implements the following:\n",
    "\n",
    "1. Extract the post codes & Neighbourhood data correspoding to various bouroughs in Toronto, ontario from a wikipedia page using python library - **BeautifulSoup**\n",
    "    \n",
    "2. Store the extracted data into a dataframe with columns as below:\n",
    "    - Postal Code\n",
    "    - Borough\n",
    "    - Neighbourhood\n",
    "    "
   ]
  },
  {
   "cell_type": "markdown",
   "metadata": {},
   "source": [
    "### Installing BeautifulSoup library"
   ]
  },
  {
   "cell_type": "code",
   "execution_count": 4,
   "metadata": {},
   "outputs": [
    {
     "name": "stdout",
     "output_type": "stream",
     "text": [
      "Solving environment: done\n",
      "\n",
      "\n",
      "==> WARNING: A newer version of conda exists. <==\n",
      "  current version: 4.4.10\n",
      "  latest version: 4.6.7\n",
      "\n",
      "Please update conda by running\n",
      "\n",
      "    $ conda update -n base conda\n",
      "\n",
      "\n",
      "\n",
      "## Package Plan ##\n",
      "\n",
      "  environment location: /Users/vivekvenudasan/anaconda3\n",
      "\n",
      "  added / updated specs: \n",
      "    - beautifulsoup4\n",
      "\n",
      "\n",
      "The following packages will be downloaded:\n",
      "\n",
      "    package                    |            build\n",
      "    ---------------------------|-----------------\n",
      "    beautifulsoup4-4.7.1       |        py36_1001         140 KB  conda-forge\n",
      "    soupsieve-1.8              |           py36_0         102 KB  conda-forge\n",
      "    ------------------------------------------------------------\n",
      "                                           Total:         242 KB\n",
      "\n",
      "The following NEW packages will be INSTALLED:\n",
      "\n",
      "    soupsieve:      1.8-py36_0           conda-forge\n",
      "\n",
      "The following packages will be UPDATED:\n",
      "\n",
      "    beautifulsoup4: 4.6.0-py36h72d3c9f_1             --> 4.7.1-py36_1001 conda-forge\n",
      "\n",
      "\n",
      "Downloading and Extracting Packages\n",
      "beautifulsoup4 4.7.1: ################################################## | 100% \n",
      "soupsieve 1.8: ######################################################### | 100% \n",
      "Preparing transaction: done\n",
      "Verifying transaction: done\n",
      "Executing transaction: done\n"
     ]
    }
   ],
   "source": [
    "!conda install -c conda-forge beautifulsoup4  --yes"
   ]
  },
  {
   "cell_type": "markdown",
   "metadata": {},
   "source": [
    "### Import libraries"
   ]
  },
  {
   "cell_type": "code",
   "execution_count": 2,
   "metadata": {},
   "outputs": [
    {
     "name": "stdout",
     "output_type": "stream",
     "text": [
      "Libraries imported.\n"
     ]
    }
   ],
   "source": [
    "import numpy as np # library to handle data in a vectorized manner\n",
    "\n",
    "import pandas as pd # library for data analsysis\n",
    "pd.set_option('display.max_columns', None)\n",
    "pd.set_option('display.max_rows', None)\n",
    "\n",
    "import requests # library to handle requests\n",
    "from pandas.io.json import json_normalize # tranform JSON file into a pandas dataframe\n",
    "\n",
    "#import BeautifulSoup library for parsing wikipedia page\n",
    "from bs4 import BeautifulSoup\n",
    "\n",
    "print('Libraries imported.')"
   ]
  },
  {
   "cell_type": "markdown",
   "metadata": {},
   "source": [
    "### Extract wikipedia page using requests library"
   ]
  },
  {
   "cell_type": "code",
   "execution_count": 3,
   "metadata": {},
   "outputs": [
    {
     "name": "stdout",
     "output_type": "stream",
     "text": [
      "Done\n"
     ]
    }
   ],
   "source": [
    "wiki_page = 'https://en.wikipedia.org/wiki/List_of_postal_codes_of_Canada:_M'\n",
    "html_doc =  requests.get(wiki_page)\n",
    "print('Done')"
   ]
  },
  {
   "cell_type": "markdown",
   "metadata": {},
   "source": [
    "### Use Beautiful soup to parse and store the extracted wikipage into a dictionary and then finally store it into toronto neighborhoods dataframe (target)"
   ]
  },
  {
   "cell_type": "code",
   "execution_count": 4,
   "metadata": {},
   "outputs": [
    {
     "name": "stdout",
     "output_type": "stream",
     "text": [
      "Skipped 77 boroughs out of 289 entries as they are <Not assigned>\n",
      "\n",
      "Toronto neighbourhoods dataframe created!!\n"
     ]
    }
   ],
   "source": [
    "wikipage = BeautifulSoup(html_doc.text, 'html.parser') #read the extracted Wikipage using beautifulsoup\n",
    "table = wikipage.find(\"table\")\n",
    "i=0\n",
    "j=0\n",
    "temp_dict=dict()\n",
    "for row in table.findAll(\"tr\"): \n",
    "    col = row.findAll(\"td\")\n",
    "    if len(col)>0:\n",
    "        pcode = col[0].get_text().strip('\\n')\n",
    "        borough = col[1].get_text().strip('\\n')\n",
    "        neighbourhood = col[2].get_text().strip('\\n')\n",
    "        dict_key=pcode+'_'+borough\n",
    "        \n",
    "        if neighbourhood == 'Not assigned':\n",
    "            neighbourhood = borough # to handle neighbouhoods that are 'Not assgined' & assign them to borough value in such cases\n",
    "            \n",
    "        if borough != 'Not assigned':  #skips all boroughs which are having value = 'Not assigned'\n",
    "            #group the neighbourhoods belonging to same postal area in a comma separated csv\n",
    "            if dict_key in temp_dict:\n",
    "                temp_dict[dict_key]=temp_dict[dict_key]+','+neighbourhood\n",
    "            else:\n",
    "                temp_dict[dict_key]=neighbourhood\n",
    "        else:\n",
    "            j=j+1\n",
    "        i=i+1\n",
    "#priting howmany entries skipped        \n",
    "text = 'Skipped {} boroughs out of {} entries as they are <Not assigned>\\n'.format(j,i)\n",
    "print(text)\n",
    "\n",
    "#convert dictionary to a temporary dataframe\n",
    "temp_df = pd.DataFrame(temp_dict.items(),columns=['key','Neighbourhood'])\n",
    "#Split the key column to separate columns\n",
    "temp_df[['Postal Code','Borough']] = temp_df['key'].str.split('_', n=1, expand=True)\n",
    "# drop the key column\n",
    "temp_df.drop('key',axis=1,inplace=True)\n",
    "\n",
    "#Rearrange the columns and store the data to the base dataframe for toronto neighbourhoods\n",
    "toronto_nhood_data = temp_df[['Postal Code','Borough','Neighbourhood']]\n",
    "print(\"Toronto neighbourhoods dataframe created!!\")\n"
   ]
  },
  {
   "cell_type": "markdown",
   "metadata": {},
   "source": [
    "### Print the shape & head of the target dataframe"
   ]
  },
  {
   "cell_type": "code",
   "execution_count": 5,
   "metadata": {},
   "outputs": [
    {
     "name": "stdout",
     "output_type": "stream",
     "text": [
      "Grouped neighbourhoods example:  Postal Code           Borough             Neighbourhood\n",
      "2         M5A  Downtown Toronto  Harbourfront,Regent Park\n",
      "\n",
      "Not assigned neighbouhoods handle example:  Postal Code       Borough Neighbourhood\n",
      "4         M7A  Queen's Park  Queen's Park\n",
      "\n",
      "Dataframe shape: (103, 3) \n",
      "\n"
     ]
    },
    {
     "data": {
      "text/html": [
       "<div>\n",
       "<style scoped>\n",
       "    .dataframe tbody tr th:only-of-type {\n",
       "        vertical-align: middle;\n",
       "    }\n",
       "\n",
       "    .dataframe tbody tr th {\n",
       "        vertical-align: top;\n",
       "    }\n",
       "\n",
       "    .dataframe thead th {\n",
       "        text-align: right;\n",
       "    }\n",
       "</style>\n",
       "<table border=\"1\" class=\"dataframe\">\n",
       "  <thead>\n",
       "    <tr style=\"text-align: right;\">\n",
       "      <th></th>\n",
       "      <th>Postal Code</th>\n",
       "      <th>Borough</th>\n",
       "      <th>Neighbourhood</th>\n",
       "    </tr>\n",
       "  </thead>\n",
       "  <tbody>\n",
       "    <tr>\n",
       "      <th>0</th>\n",
       "      <td>M3A</td>\n",
       "      <td>North York</td>\n",
       "      <td>Parkwoods</td>\n",
       "    </tr>\n",
       "    <tr>\n",
       "      <th>1</th>\n",
       "      <td>M4A</td>\n",
       "      <td>North York</td>\n",
       "      <td>Victoria Village</td>\n",
       "    </tr>\n",
       "    <tr>\n",
       "      <th>2</th>\n",
       "      <td>M5A</td>\n",
       "      <td>Downtown Toronto</td>\n",
       "      <td>Harbourfront,Regent Park</td>\n",
       "    </tr>\n",
       "    <tr>\n",
       "      <th>3</th>\n",
       "      <td>M6A</td>\n",
       "      <td>North York</td>\n",
       "      <td>Lawrence Heights,Lawrence Manor</td>\n",
       "    </tr>\n",
       "    <tr>\n",
       "      <th>4</th>\n",
       "      <td>M7A</td>\n",
       "      <td>Queen's Park</td>\n",
       "      <td>Queen's Park</td>\n",
       "    </tr>\n",
       "    <tr>\n",
       "      <th>5</th>\n",
       "      <td>M9A</td>\n",
       "      <td>Etobicoke</td>\n",
       "      <td>Islington Avenue</td>\n",
       "    </tr>\n",
       "    <tr>\n",
       "      <th>6</th>\n",
       "      <td>M1B</td>\n",
       "      <td>Scarborough</td>\n",
       "      <td>Rouge,Malvern</td>\n",
       "    </tr>\n",
       "    <tr>\n",
       "      <th>7</th>\n",
       "      <td>M3B</td>\n",
       "      <td>North York</td>\n",
       "      <td>Don Mills North</td>\n",
       "    </tr>\n",
       "    <tr>\n",
       "      <th>8</th>\n",
       "      <td>M4B</td>\n",
       "      <td>East York</td>\n",
       "      <td>Woodbine Gardens,Parkview Hill</td>\n",
       "    </tr>\n",
       "    <tr>\n",
       "      <th>9</th>\n",
       "      <td>M5B</td>\n",
       "      <td>Downtown Toronto</td>\n",
       "      <td>Ryerson,Garden District</td>\n",
       "    </tr>\n",
       "    <tr>\n",
       "      <th>10</th>\n",
       "      <td>M6B</td>\n",
       "      <td>North York</td>\n",
       "      <td>Glencairn</td>\n",
       "    </tr>\n",
       "    <tr>\n",
       "      <th>11</th>\n",
       "      <td>M9B</td>\n",
       "      <td>Etobicoke</td>\n",
       "      <td>Cloverdale,Islington,Martin Grove,Princess Gar...</td>\n",
       "    </tr>\n",
       "    <tr>\n",
       "      <th>12</th>\n",
       "      <td>M1C</td>\n",
       "      <td>Scarborough</td>\n",
       "      <td>Highland Creek,Rouge Hill,Port Union</td>\n",
       "    </tr>\n",
       "    <tr>\n",
       "      <th>13</th>\n",
       "      <td>M3C</td>\n",
       "      <td>North York</td>\n",
       "      <td>Flemingdon Park,Don Mills South</td>\n",
       "    </tr>\n",
       "    <tr>\n",
       "      <th>14</th>\n",
       "      <td>M4C</td>\n",
       "      <td>East York</td>\n",
       "      <td>Woodbine Heights</td>\n",
       "    </tr>\n",
       "  </tbody>\n",
       "</table>\n",
       "</div>"
      ],
      "text/plain": [
       "   Postal Code           Borough  \\\n",
       "0          M3A        North York   \n",
       "1          M4A        North York   \n",
       "2          M5A  Downtown Toronto   \n",
       "3          M6A        North York   \n",
       "4          M7A      Queen's Park   \n",
       "5          M9A         Etobicoke   \n",
       "6          M1B       Scarborough   \n",
       "7          M3B        North York   \n",
       "8          M4B         East York   \n",
       "9          M5B  Downtown Toronto   \n",
       "10         M6B        North York   \n",
       "11         M9B         Etobicoke   \n",
       "12         M1C       Scarborough   \n",
       "13         M3C        North York   \n",
       "14         M4C         East York   \n",
       "\n",
       "                                        Neighbourhood  \n",
       "0                                           Parkwoods  \n",
       "1                                    Victoria Village  \n",
       "2                            Harbourfront,Regent Park  \n",
       "3                     Lawrence Heights,Lawrence Manor  \n",
       "4                                        Queen's Park  \n",
       "5                                    Islington Avenue  \n",
       "6                                       Rouge,Malvern  \n",
       "7                                     Don Mills North  \n",
       "8                      Woodbine Gardens,Parkview Hill  \n",
       "9                             Ryerson,Garden District  \n",
       "10                                          Glencairn  \n",
       "11  Cloverdale,Islington,Martin Grove,Princess Gar...  \n",
       "12               Highland Creek,Rouge Hill,Port Union  \n",
       "13                    Flemingdon Park,Don Mills South  \n",
       "14                                   Woodbine Heights  "
      ]
     },
     "execution_count": 5,
     "metadata": {},
     "output_type": "execute_result"
    }
   ],
   "source": [
    "print('Grouped neighbourhoods example:{}\\n'.format(toronto_nhood_data[toronto_nhood_data['Postal Code']=='M5A']))\n",
    "print('Not assigned neighbouhoods handle example:{}\\n'.format(toronto_nhood_data[toronto_nhood_data['Postal Code']=='M7A']))\n",
    "\n",
    "print('Dataframe shape:',toronto_nhood_data.shape,'\\n')\n",
    "\n",
    "toronto_nhood_data.head(15)"
   ]
  }
 ],
 "metadata": {
  "kernelspec": {
   "display_name": "Python 3",
   "language": "python",
   "name": "python3"
  },
  "language_info": {
   "codemirror_mode": {
    "name": "ipython",
    "version": 3
   },
   "file_extension": ".py",
   "mimetype": "text/x-python",
   "name": "python",
   "nbconvert_exporter": "python",
   "pygments_lexer": "ipython3",
   "version": "3.6.4"
  }
 },
 "nbformat": 4,
 "nbformat_minor": 2
}
